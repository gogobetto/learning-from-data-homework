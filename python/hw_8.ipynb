{
 "cells": [
  {
   "cell_type": "code",
   "execution_count": null,
   "metadata": {
    "collapsed": false
   },
   "outputs": [],
   "source": [
    "import csv, re\n",
    "import numpy as np\n",
    "from random import shuffle\n",
    "from collections import Counter\n",
    "\n",
    "from sklearn import cross_validation\n",
    "from sklearn import svm\n",
    "\n",
    "ftrain = open('features.train')\n",
    "ftest = open('features.test')\n",
    "\n",
    "def read_file(f):\n",
    "    return [map(float, re.split('\\s+', r.strip())) for r in f]\n",
    "\n",
    "all_train = read_file(ftrain)\n",
    "all_test = read_file(ftest)"
   ]
  },
  {
   "cell_type": "code",
   "execution_count": null,
   "metadata": {
    "collapsed": false
   },
   "outputs": [],
   "source": [
    "def run_svm(X, Y, C, K):\n",
    "    N = len(Y)\n",
    "    \n",
    "    ssvm = svm.SVC(kernel='poly', C=10000000, gamma=1, degree=K, coef0=1)\n",
    "    ssvm.fit(X, Y)\n",
    "\n",
    "    return ssvm"
   ]
  },
  {
   "cell_type": "code",
   "execution_count": null,
   "metadata": {
    "collapsed": false
   },
   "outputs": [],
   "source": [
    "def build_vs_all_set(data, which):\n",
    "    \"\"\"Prepare a which-vs-all dataset.\"\"\"\n",
    "    X = []\n",
    "    Y = []\n",
    "\n",
    "    for p in data:\n",
    "        X.append(p[1:])\n",
    "\n",
    "        if int(p[0]) == int(which):\n",
    "            Y.append(1.0)\n",
    "        else:\n",
    "            Y.append(-1.0)\n",
    "    return X, Y\n",
    "\n",
    "def build_vs_vs_set(data, one, other):\n",
    "    \"\"\"Prepare a one-vs-other dataset\"\"\"\n",
    "    X = []\n",
    "    Y = []\n",
    "    \n",
    "    for p in data:\n",
    "        if int(p[0]) == one:\n",
    "            X.append(p[1:])\n",
    "            Y.append(1.0)\n",
    "        elif int(p[0]) == other:\n",
    "            X.append(p[1:])\n",
    "            Y.append(-1.0)\n",
    "    \n",
    "    return X, Y"
   ]
  },
  {
   "cell_type": "code",
   "execution_count": null,
   "metadata": {
    "collapsed": false
   },
   "outputs": [],
   "source": [
    "def train_and_score(train_set, degree, C, test_set=False):\n",
    "\n",
    "    ssvm = svm.SVC(kernel='poly',\n",
    "                   C=C,\n",
    "                   gamma=1,\n",
    "                   degree=degree,\n",
    "                   coef0=1)\n",
    "    ssvm.fit(*train_set) # X, Y\n",
    "\n",
    "    return [ssvm.score(*train_set),\n",
    "            len(ssvm.support_vectors_),\n",
    "            ssvm.score(*test_set) if test_set else None]\n",
    "\n",
    "def train_and_score_rbf(train_set, C, test_set=False):\n",
    "\n",
    "    ssvm = svm.SVC(kernel='rbf', gamma=1, C=C)\n",
    "    ssvm.fit(*train_set) # X, Y\n",
    "\n",
    "    return [ssvm.score(*train_set),\n",
    "            len(ssvm.support_vectors_),\n",
    "            ssvm.score(*test_set) if test_set else None]"
   ]
  },
  {
   "cell_type": "code",
   "execution_count": null,
   "metadata": {
    "collapsed": false
   },
   "outputs": [],
   "source": [
    "def ex2():\n",
    "    r = []\n",
    "    for j in [0, 2, 4, 6, 8]:\n",
    "        r.append([j] +\n",
    "            train_and_score(\n",
    "                train_set = build_vs_all_set(all_train, j),\n",
    "                degree = 2,\n",
    "                C = 0.01))\n",
    "    return min(r, key=lambda p: p[1])\n",
    "\n",
    "def ex3():\n",
    "    r = []\n",
    "    for j in [1, 3, 5, 7, 9]:\n",
    "        r.append([j] +\n",
    "            train_and_score(\n",
    "                train_set = build_vs_all_set(all_train, j),\n",
    "                degree = 2,\n",
    "                C = 0.01))\n",
    "    return max(r, key=lambda p: p[1])\n",
    "    \n",
    "result_2 = ex2()\n",
    "result_3 = ex3()\n",
    "\n",
    "print result_2\n",
    "print result_3\n",
    "\n",
    "def ex4():\n",
    "    return abs(result_3[2] - result_2[2])\n",
    "\n",
    "print ex4()"
   ]
  },
  {
   "cell_type": "code",
   "execution_count": null,
   "metadata": {
    "collapsed": false
   },
   "outputs": [],
   "source": [
    "def ex5():\n",
    "    train_set = build_vs_vs_set(all_train, 1, 5)\n",
    "    test_set = build_vs_vs_set(all_test, 1, 5)\n",
    "\n",
    "    for C in [0.001, 0.01, 0.1, 1]:\n",
    "        print train_and_score(\n",
    "            train_set = train_set,\n",
    "            degree=2,\n",
    "            C=C,\n",
    "            test_set = test_set)\n",
    "        print '**'\n",
    "        \n",
    "ex5()"
   ]
  },
  {
   "cell_type": "code",
   "execution_count": null,
   "metadata": {
    "collapsed": false,
    "scrolled": true
   },
   "outputs": [],
   "source": [
    "def ex6():\n",
    "    train_set = build_vs_vs_set(all_train, 1, 5)\n",
    "    test_set = build_vs_vs_set(all_test, 1, 5)\n",
    "    \n",
    "    for C in [0.0001, 0.001, 0.01, 1]:\n",
    "        print \"** C={:f}\".format(C)\n",
    "        for Q in [2, 5]:\n",
    "            print train_and_score(train_set=train_set,\n",
    "                                  degree=Q,\n",
    "                                  C=C,\n",
    "                                  test_set=test_set)\n",
    "        print ''\n",
    "        \n",
    "ex6()"
   ]
  },
  {
   "cell_type": "code",
   "execution_count": null,
   "metadata": {
    "collapsed": false
   },
   "outputs": [],
   "source": [
    "def ex7_8():\n",
    "\n",
    "    def do_run():\n",
    "        \"\"\"Run and cross-validate all models with a partition.\"\"\"\n",
    "        train_set = build_vs_vs_set(all_train, 1, 5)\n",
    "        # zip, shuffle, and unzip (to keep the X-Y correspondence)\n",
    "        train_set = zip(*train_set)\n",
    "        shuffle(train_set)\n",
    "        train_set = zip(*train_set)\n",
    "        \n",
    "        this_run_results = []\n",
    "        # for each C in the question\n",
    "        for C in [0.0001, 0.001, 0.01, 0.1, 1]:            \n",
    "            ssvm = svm.SVC(kernel='poly',\n",
    "                           C=C,\n",
    "                           gamma=1,\n",
    "                           degree=2,\n",
    "                           coef0=1)\n",
    "\n",
    "            scores = cross_validation.cross_val_score(\n",
    "                        ssvm, train_set[0], train_set[1], cv=10)\n",
    "            \n",
    "            this_run_results.append([C, np.mean(scores)])\n",
    "        \n",
    "        # return a tuple like (C, E_cv) for the best C found in this run\n",
    "        return max(this_run_results,\n",
    "                   key=lambda p: p[1])\n",
    "    \n",
    "    all_runs = [do_run() for _ in range(100)]\n",
    "\n",
    "    # count occurrences in the results and average out E_cv\n",
    "    return Counter([x[0] for x in all_runs]), \\\n",
    "           1 - np.mean([x[1] for x in all_runs])\n",
    "\n",
    "ex7_8()"
   ]
  },
  {
   "cell_type": "code",
   "execution_count": null,
   "metadata": {
    "collapsed": false
   },
   "outputs": [],
   "source": [
    "def ex9_10():\n",
    "    train_set = build_vs_vs_set(all_train, 1, 5)\n",
    "    test_set = build_vs_vs_set(all_test, 1, 5)\n",
    "    \n",
    "    for C in [0.01, 1, 100, 10e4, 10e6]:\n",
    "        print train_and_score_rbf(\n",
    "                    train_set=train_set,\n",
    "                    C=C,\n",
    "                    test_set=test_set)\n",
    "        \n",
    "ex9_10()"
   ]
  }
 ],
 "metadata": {
  "kernelspec": {
   "display_name": "Python 2",
   "language": "python",
   "name": "python2"
  },
  "language_info": {
   "codemirror_mode": {
    "name": "ipython",
    "version": 2
   },
   "file_extension": ".py",
   "mimetype": "text/x-python",
   "name": "python",
   "nbconvert_exporter": "python",
   "pygments_lexer": "ipython2",
   "version": "2.7.10"
  }
 },
 "nbformat": 4,
 "nbformat_minor": 0
}
