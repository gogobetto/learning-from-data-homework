{
 "cells": [
  {
   "cell_type": "code",
   "execution_count": 37,
   "metadata": {
    "collapsed": false
   },
   "outputs": [],
   "source": [
    "from random import uniform\n",
    "\n",
    "import matplotlib.pyplot as plt\n",
    "%matplotlib inline\n",
    "\n",
    "import numpy as np\n",
    "\n",
    "from sklearn import svm\n",
    "\n",
    "from cvxopt import matrix, solvers\n",
    "import cvxopt\n",
    "# cvxopt.solvers.options['show_progress'] = False"
   ]
  },
  {
   "cell_type": "code",
   "execution_count": 14,
   "metadata": {
    "collapsed": true
   },
   "outputs": [],
   "source": [
    "def ex11():\n",
    "    X = [[1,0], [0,1], [0,-1], [-1,0], [0,2],[0,-2],[-2,0]]\n",
    "    Y = [-1,-1,-1,1,1,1,1]\n",
    "\n",
    "    def transform(x):\n",
    "        return [\n",
    "            x[1]**2 - 2*x[0] - 1,\n",
    "            x[0]**2 - 2*x[1] + 1\n",
    "        ]\n",
    "\n",
    "    plt.scatter(*zip(*map(transform, X)), c=['k' if x==1 else 'w' for x in Y])\n",
    "    plt.grid()\n",
    "    \n",
    "# ex11()"
   ]
  },
  {
   "cell_type": "code",
   "execution_count": 52,
   "metadata": {
    "collapsed": false
   },
   "outputs": [
    {
     "data": {
      "text/plain": [
       "5"
      ]
     },
     "execution_count": 52,
     "metadata": {},
     "output_type": "execute_result"
    }
   ],
   "source": [
    "def ex12():\n",
    "    X = [[1.,0.], [0.,1.], [0.,-1.], [-1.,0.], [0.,2.],[0.,-2.],[-2.,0.]]\n",
    "    Y = [-1.,-1.,-1.,1.,1.,1.,1.]\n",
    "\n",
    "    ssvm = svm.SVC(kernel='poly',\n",
    "                   C=1e10,\n",
    "                   gamma=1,\n",
    "                   degree=2,\n",
    "                   coef0=1)\n",
    "    ssvm.fit(X, Y)\n",
    "\n",
    "    return len(ssvm.support_vectors_)\n",
    "\n",
    "ex12()"
   ]
  },
  {
   "cell_type": "code",
   "execution_count": 51,
   "metadata": {
    "collapsed": false
   },
   "outputs": [
    {
     "data": {
      "text/plain": [
       "0.047"
      ]
     },
     "execution_count": 51,
     "metadata": {},
     "output_type": "execute_result"
    }
   ],
   "source": [
    "def rand_point():\n",
    "    return np.array([uniform(-1, 1), uniform(-1, 1)])\n",
    "\n",
    "def f(P):\n",
    "    return np.sign(P[1] - P[0] + 0.25 * np.sin(np.pi * P[0]))\n",
    "\n",
    "def dataset_point():\n",
    "    p = rand_point()\n",
    "    return (p, f(p))\n",
    "                   \n",
    "def make_dataset(N):\n",
    "    return [dataset_point() for _ in range(N)]\n",
    "    \n",
    "def ex13():\n",
    "    def do_run():\n",
    "        train_set = zip(*make_dataset(100))\n",
    "\n",
    "        ssvm = svm.SVC(kernel='rbf', gamma=1.5)\n",
    "        ssvm.fit(*train_set)\n",
    "\n",
    "        return 1 if ssvm.score(*train_set)==1.0 else 0\n",
    "        \n",
    "    return np.mean([do_run() for _ in range(1000)])\n",
    "    \n",
    "ex13()"
   ]
  },
  {
   "cell_type": "code",
   "execution_count": null,
   "metadata": {
    "collapsed": true
   },
   "outputs": [],
   "source": []
  }
 ],
 "metadata": {
  "kernelspec": {
   "display_name": "Python 2",
   "language": "python",
   "name": "python2"
  },
  "language_info": {
   "codemirror_mode": {
    "name": "ipython",
    "version": 2
   },
   "file_extension": ".py",
   "mimetype": "text/x-python",
   "name": "python",
   "nbconvert_exporter": "python",
   "pygments_lexer": "ipython2",
   "version": "2.7.10"
  }
 },
 "nbformat": 4,
 "nbformat_minor": 0
}
